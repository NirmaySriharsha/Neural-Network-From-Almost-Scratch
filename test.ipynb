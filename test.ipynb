{
 "metadata": {
  "language_info": {
   "codemirror_mode": {
    "name": "ipython",
    "version": 3
   },
   "file_extension": ".py",
   "mimetype": "text/x-python",
   "name": "python",
   "nbconvert_exporter": "python",
   "pygments_lexer": "ipython3",
   "version": "3.9.1-final"
  },
  "orig_nbformat": 2,
  "kernelspec": {
   "name": "python3",
   "display_name": "Python 3.9.1 64-bit",
   "metadata": {
    "interpreter": {
     "hash": "db6eea1dcc12300e00095ab601a0d362212a7ab534862bc1fc5c71f733b81343"
    }
   }
  }
 },
 "nbformat": 4,
 "nbformat_minor": 2,
 "cells": [
  {
   "cell_type": "code",
   "execution_count": 2,
   "metadata": {},
   "outputs": [],
   "source": [
    "import numpy as np\n",
    "\n",
    "from hw3_lib import Linear, Sigmoid, ReLU, CrossEntropyLoss, GradientDescentOptimizer"
   ]
  },
  {
   "cell_type": "code",
   "execution_count": 4,
   "metadata": {},
   "outputs": [],
   "source": [
    "# NOTATION\n",
    "# in the comments below\n",
    "#     N is batch size.\n",
    "#     in_features is the input size (not counting the bias)\n",
    "#     out_features is the output size\n",
    "#     C is number of classes (10 for this assignment)\n",
    "\n",
    "# do not import any other libraries\n",
    "# they are not needed and won't be available to the autograder\n",
    "class Module:\n",
    "    def __init__(self):\n",
    "        pass\n",
    "\n",
    "    def __call__(self, *args, **kwargs):\n",
    "        return self.forward(args, kwargs)\n",
    "\n",
    "    def forward(self, *x):\n",
    "        raise NotImplementedError\n",
    "\n",
    "    def backward(self, *g):\n",
    "        raise NotImplementedError"
   ]
  },
  {
   "cell_type": "code",
   "execution_count": 14,
   "metadata": {},
   "outputs": [
    {
     "output_type": "stream",
     "name": "stdout",
     "text": [
      "[[  1  -1   0  -4   3]\n [  0  -2   3  -3   2]\n [ -1   4   5 -23   0]]\n[[1 0 0 0 3]\n [0 0 3 0 2]\n [0 4 5 0 0]]\n"
     ]
    }
   ],
   "source": [
    "A = np.array([[1, -1, 0, -4, 3], [0, -2, 3, -3, 2], [-1, 4, 5, -23, 0]])\n",
    "print(A)\n",
    "A[A<0] = 0\n",
    "print(A)"
   ]
  },
  {
   "cell_type": "code",
   "execution_count": 21,
   "metadata": {},
   "outputs": [
    {
     "output_type": "stream",
     "name": "stdout",
     "text": [
      "[[2 3 4]\n [3 4 5]]\n(2, 3)\n[[0. 0. 0.]\n [0. 0. 0.]]\n3\n0\n1\n2\n"
     ]
    }
   ],
   "source": [
    "A = np.array([[1, 1, 1], [2, 2, 2]])\n",
    "print(A + np.array([[1, 2, 3]]))\n",
    "print(A.shape)\n",
    "B = np.zeros(A.shape)\n",
    "print(B)\n",
    "print(A.shape[1])\n",
    "for i in range(A.shape[1]):\n",
    "    print(i)"
   ]
  },
  {
   "cell_type": "code",
   "execution_count": 31,
   "metadata": {},
   "outputs": [
    {
     "output_type": "stream",
     "name": "stdout",
     "text": [
      "[[0.16666667 0.33333333 0.5       ]\n [0.5        0.25       0.25      ]]\n[[ 2.71828183  7.3890561  20.08553692]\n [ 7.3890561   2.71828183  2.71828183]]\n[[-2 -1  0]\n [-1 -2 -2]]\n[[0.13533528 0.36787944 1.        ]\n [0.36787944 0.13533528 0.13533528]]\n"
     ]
    }
   ],
   "source": [
    "A = np.array([[1, 2, 3], [2, 1, 1]])\n",
    "print(A/A.sum(axis = 1, keepdims = True))\n",
    "print(np.exp(A))\n",
    "print(A-np.max(A))\n",
    "print(np.exp(A-np.max(A)))"
   ]
  },
  {
   "cell_type": "code",
   "execution_count": 34,
   "metadata": {},
   "outputs": [
    {
     "output_type": "stream",
     "name": "stdout",
     "text": [
      "[[2 3 8]\n [2 9 4]]\n"
     ]
    }
   ],
   "source": [
    "A = np.array([[1, 1, 2], [2, 3, 1]])\n",
    "B = np.array([[2, 3, 4], [1, 3, 4]])\n",
    "print(A*B)"
   ]
  },
  {
   "cell_type": "code",
   "execution_count": 42,
   "metadata": {},
   "outputs": [
    {
     "output_type": "stream",
     "name": "stdout",
     "text": [
      "0\n6\n12\n"
     ]
    }
   ],
   "source": [
    "for i in range(0, 15, 6):\n",
    "    print(i)\n"
   ]
  },
  {
   "cell_type": "code",
   "execution_count": 48,
   "metadata": {},
   "outputs": [
    {
     "output_type": "stream",
     "name": "stdout",
     "text": [
      "[3 2 1]\n"
     ]
    }
   ],
   "source": [
    "yhats = np.array([[0, 1, 2, 9], [2, 3, 5, 0], [2, 12, 2, 5]])\n",
    "yhat = yhats.argmax(axis = 1)\n",
    "print(yhat)"
   ]
  },
  {
   "cell_type": "code",
   "execution_count": 49,
   "metadata": {},
   "outputs": [],
   "source": [
    "def load_data():\n",
    "    data_train = np.genfromtxt('training_data_student/train.csv', dtype=np.float64, delimiter=',')\n",
    "    assert data_train.shape == (3000, 785)\n",
    "    data_test = np.genfromtxt('training_data_student/test.csv', dtype=np.float64, delimiter=',')\n",
    "\n",
    "    assert data_test.shape == (1000, 785)\n",
    "\n",
    "    return {\n",
    "        'train_x': data_train[:, :-1].astype(np.float64),\n",
    "        'train_y': data_train[:, -1].astype(np.int64),\n",
    "        'test_x': data_test[:, :-1].astype(np.float64),\n",
    "        'test_y': data_test[:, -1].astype(np.int64),\n",
    "    }"
   ]
  },
  {
   "cell_type": "code",
   "execution_count": 51,
   "metadata": {},
   "outputs": [],
   "source": [
    "dataset = load_data()"
   ]
  },
  {
   "cell_type": "code",
   "execution_count": 53,
   "metadata": {},
   "outputs": [],
   "source": [
    "train_x, train_y = dataset['train_x'], dataset['train_y']\n",
    "test_x, test_y = dataset['test_x'], dataset['test_y']\n"
   ]
  },
  {
   "cell_type": "code",
   "execution_count": 60,
   "metadata": {},
   "outputs": [
    {
     "output_type": "stream",
     "name": "stdout",
     "text": [
      "2700\n[0 0 0 ... 9 9 9]\n"
     ]
    }
   ],
   "source": [
    "a = train_y.argmax()\n",
    "print(a)\n",
    "print(train_y)"
   ]
  },
  {
   "cell_type": "code",
   "execution_count": 67,
   "metadata": {},
   "outputs": [
    {
     "output_type": "stream",
     "name": "stdout",
     "text": [
      "2\n3\n<class 'numpy.ndarray'>\n2 3\n"
     ]
    }
   ],
   "source": [
    "A = np.array([[1, 2, 4], [2, 3, 2]])\n",
    "n, m = A.shape\n",
    "print(n)\n",
    "print(m)\n",
    "print(type(A))\n",
    "(a, b) = A.shape\n",
    "print(a, b)"
   ]
  },
  {
   "cell_type": "code",
   "execution_count": 75,
   "metadata": {},
   "outputs": [
    {
     "output_type": "stream",
     "name": "stdout",
     "text": [
      "[[-7 -6  0]\n [-3 -2  0]]\n"
     ]
    }
   ],
   "source": [
    "a = np.array([[1, 2, 8], [1, 2, 4]])\n",
    "print(a - np.max(a, axis = 1, keepdims = True))"
   ]
  }
 ]
}